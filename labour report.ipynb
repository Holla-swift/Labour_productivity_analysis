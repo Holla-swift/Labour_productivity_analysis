{
 "cells": [
  {
   "cell_type": "markdown",
   "id": "324944b7",
   "metadata": {},
   "source": [
    "## Labor productivity"
   ]
  },
  {
   "cell_type": "markdown",
   "id": "81679de1",
   "metadata": {},
   "source": [
    "#### Cleaning the Data"
   ]
  },
  {
   "cell_type": "code",
   "execution_count": 1,
   "id": "7ed4c92c",
   "metadata": {},
   "outputs": [],
   "source": [
    "## Import neccesary libraries\n",
    "\n",
    "import pandas as pd\n",
    "from matplotlib import pyplot as plt\n",
    "import seaborn as sns\n",
    "import numpy as np"
   ]
  },
  {
   "cell_type": "code",
   "execution_count": 2,
   "id": "30b27ab2",
   "metadata": {},
   "outputs": [],
   "source": [
    "df = pd.read_csv('data-pUHnK.csv')"
   ]
  },
  {
   "cell_type": "code",
   "execution_count": 3,
   "id": "7187c0d2",
   "metadata": {},
   "outputs": [
    {
     "data": {
      "text/html": [
       "<div>\n",
       "<style scoped>\n",
       "    .dataframe tbody tr th:only-of-type {\n",
       "        vertical-align: middle;\n",
       "    }\n",
       "\n",
       "    .dataframe tbody tr th {\n",
       "        vertical-align: top;\n",
       "    }\n",
       "\n",
       "    .dataframe thead th {\n",
       "        text-align: right;\n",
       "    }\n",
       "</style>\n",
       "<table border=\"1\" class=\"dataframe\">\n",
       "  <thead>\n",
       "    <tr style=\"text-align: right;\">\n",
       "      <th></th>\n",
       "      <th>Group</th>\n",
       "      <th>Country</th>\n",
       "      <th>GDP per hour worked (GDP constant 2017 international $ at PPP)</th>\n",
       "    </tr>\n",
       "  </thead>\n",
       "  <tbody>\n",
       "    <tr>\n",
       "      <th>0</th>\n",
       "      <td>Low income countries</td>\n",
       "      <td>Afghanistan</td>\n",
       "      <td>4.1</td>\n",
       "    </tr>\n",
       "    <tr>\n",
       "      <th>1</th>\n",
       "      <td>Lower-middle income countries</td>\n",
       "      <td>Angola</td>\n",
       "      <td>7.8</td>\n",
       "    </tr>\n",
       "    <tr>\n",
       "      <th>2</th>\n",
       "      <td>Upper-middle income countries</td>\n",
       "      <td>Albania</td>\n",
       "      <td>15.3</td>\n",
       "    </tr>\n",
       "    <tr>\n",
       "      <th>3</th>\n",
       "      <td>High income countries</td>\n",
       "      <td>United Arab Emirates</td>\n",
       "      <td>36.9</td>\n",
       "    </tr>\n",
       "    <tr>\n",
       "      <th>4</th>\n",
       "      <td>Upper-middle income countries</td>\n",
       "      <td>Argentina</td>\n",
       "      <td>29.8</td>\n",
       "    </tr>\n",
       "  </tbody>\n",
       "</table>\n",
       "</div>"
      ],
      "text/plain": [
       "                           Group               Country  \\\n",
       "0           Low income countries           Afghanistan   \n",
       "1  Lower-middle income countries                Angola   \n",
       "2  Upper-middle income countries               Albania   \n",
       "3          High income countries  United Arab Emirates   \n",
       "4  Upper-middle income countries             Argentina   \n",
       "\n",
       "   GDP per hour worked (GDP constant 2017 international $ at PPP)  \n",
       "0                                                4.1               \n",
       "1                                                7.8               \n",
       "2                                               15.3               \n",
       "3                                               36.9               \n",
       "4                                               29.8               "
      ]
     },
     "execution_count": 3,
     "metadata": {},
     "output_type": "execute_result"
    }
   ],
   "source": [
    "df.head()"
   ]
  },
  {
   "cell_type": "code",
   "execution_count": 4,
   "id": "9438aaa4",
   "metadata": {},
   "outputs": [],
   "source": [
    "df = df.rename(columns={'GDP per hour worked (GDP constant 2017 international $ at PPP)':'GDP_per_hour'})"
   ]
  },
  {
   "cell_type": "code",
   "execution_count": 5,
   "id": "d00963fd",
   "metadata": {},
   "outputs": [
    {
     "name": "stdout",
     "output_type": "stream",
     "text": [
      "<class 'pandas.core.frame.DataFrame'>\n",
      "RangeIndex: 185 entries, 0 to 184\n",
      "Data columns (total 3 columns):\n",
      " #   Column        Non-Null Count  Dtype  \n",
      "---  ------        --------------  -----  \n",
      " 0   Group         185 non-null    object \n",
      " 1   Country       185 non-null    object \n",
      " 2   GDP_per_hour  185 non-null    float64\n",
      "dtypes: float64(1), object(2)\n",
      "memory usage: 4.5+ KB\n"
     ]
    }
   ],
   "source": [
    "df.info()"
   ]
  },
  {
   "cell_type": "code",
   "execution_count": 6,
   "id": "b1070ef8",
   "metadata": {},
   "outputs": [
    {
     "data": {
      "text/plain": [
       "(185, 3)"
      ]
     },
     "execution_count": 6,
     "metadata": {},
     "output_type": "execute_result"
    }
   ],
   "source": [
    "df.shape"
   ]
  },
  {
   "cell_type": "markdown",
   "id": "81679de1",
   "metadata": {},
   "source": [
    "#### Countries in the Dataset"
   ]
  },
  {
   "cell_type": "code",
   "execution_count": 7,
   "id": "b9a4e1c2",
   "metadata": {},
   "outputs": [
    {
     "name": "stdout",
     "output_type": "stream",
     "text": [
      "['Afghanistan', 'Albania', 'Algeria', 'Angola', 'Argentina', 'Armenia', 'Australia', 'Austria', 'Azerbaijan', 'Bahamas', 'Bahrain', 'Bangladesh', 'Barbados', 'Belarus', 'Belgium', 'Belize', 'Benin', 'Bhutan', 'Bolivia', 'Bosnia and Herzegovina', 'Botswana', 'Brazil', 'Brunei Darussalam', 'Bulgaria', 'Burkina Faso', 'Burundi', 'Cambodia', 'Cameroon', 'Canada', 'Cape Verde', 'Central African Republic', 'Chad', 'Channel Islands', 'Chile', 'China', 'Colombia', 'Comoros', 'Congo', 'Congo, Democratic Republic of the', 'Costa Rica', 'Croatia', 'Cuba', 'Cyprus', 'Czechia', \"Côte d'Ivoire\", 'Denmark', 'Djibouti', 'Dominican Republic', 'Ecuador', 'Egypt', 'El Salvador', 'Equatorial Guinea', 'Eritrea', 'Estonia', 'Eswatini', 'Ethiopia', 'Fiji', 'Finland', 'France', 'French Polynesia', 'Gabon', 'Gambia', 'Georgia', 'Germany', 'Ghana', 'Greece', 'Guam', 'Guatemala', 'Guinea', 'Guinea-Bissau', 'Guyana', 'Haiti', 'Honduras', 'Hong Kong, China', 'Hungary', 'Iceland', 'India', 'Indonesia', 'Iran, Islamic Republic of', 'Iraq', 'Ireland', 'Israel', 'Italy', 'Jamaica', 'Japan', 'Jordan', 'Kazakhstan', 'Kenya', \"Korea, Democratic People's Republic of\", 'Korea, Republic of', 'Kuwait', 'Kyrgyzstan', \"Lao People's Democratic Republic\", 'Latvia', 'Lebanon', 'Lesotho', 'Liberia', 'Libya', 'Lithuania', 'Luxembourg', 'Macau, China', 'Madagascar', 'Malawi', 'Malaysia', 'Maldives', 'Mali', 'Malta', 'Mauritania', 'Mauritius', 'Mexico', 'Moldova, Republic of', 'Mongolia', 'Montenegro', 'Morocco', 'Mozambique', 'Myanmar', 'Namibia', 'Nepal', 'Netherlands', 'New Caledonia', 'New Zealand', 'Nicaragua', 'Niger', 'Nigeria', 'North Macedonia', 'Norway', 'Occupied Palestinian Territory', 'Oman', 'Pakistan', 'Panama', 'Papua New Guinea', 'Paraguay', 'Peru', 'Philippines', 'Poland', 'Portugal', 'Puerto Rico', 'Qatar', 'Romania', 'Russian Federation', 'Rwanda', 'Saint Lucia', 'Saint Vincent and the Grenadines', 'Samoa', 'Sao Tome and Principe', 'Saudi Arabia', 'Senegal', 'Serbia', 'Sierra Leone', 'Singapore', 'Slovakia', 'Slovenia', 'Solomon Islands', 'Somalia', 'South Sudan', 'Spain', 'Sri Lanka', 'Sudan', 'Suriname', 'Sweden', 'Switzerland', 'Syrian Arab Republic', 'Taiwan, China', 'Tajikistan', 'Tanzania, United Republic of', 'Thailand', 'Timor-Leste', 'Togo', 'Tonga', 'Trinidad and Tobago', 'Tunisia', 'Turkey', 'Turkmenistan', 'Uganda', 'Ukraine', 'United Arab Emirates', 'United Kingdom', 'United States', 'United States Virgin Islands', 'Uruguay', 'Uzbekistan', 'Vanuatu', 'Venezuela, Bolivarian Republic of', 'Viet Nam', 'Western Sahara']\n"
     ]
    }
   ],
   "source": [
    "mylist = list(set(df.Country))\n",
    "\n",
    "mylist = sorted(mylist, reverse=False)\n",
    "\n",
    "print(mylist)"
   ]
  },
  {
   "cell_type": "markdown",
   "id": "7b8a78b9",
   "metadata": {},
   "source": [
    "#### GDP per hour according to income group"
   ]
  },
  {
   "cell_type": "code",
   "execution_count": 8,
   "metadata": {},
   "outputs": [
    {
     "data": {
      "text/plain": [
       "['Lower-middle income countries',\n",
       " 'Low income countries',\n",
       " 'High income countries',\n",
       " 'Upper-middle income countries']"
      ]
     },
     "execution_count": 8,
     "metadata": {},
     "output_type": "execute_result"
    }
   ],
   "source": [
    "### Income grouping of countries in the data set\n",
    "\n",
    "list(set(df.Group))"
   ]
  },
  {
   "cell_type": "code",
   "execution_count": 9,
   "id": "ca4aed46",
   "metadata": {},
   "outputs": [
    {
     "name": "stdout",
     "output_type": "stream",
     "text": [
      "                               Country  GDP_per_hour\n",
      "Group                                               \n",
      "High income countries               61            61\n",
      "Low income countries                28            28\n",
      "Lower-middle income countries       47            47\n",
      "Upper-middle income countries       49            49\n"
     ]
    }
   ],
   "source": [
    "### Income classification of countries\n",
    "\n",
    "UMI = df.groupby(['Group']).count()\n",
    "\n",
    "UMI = UMI.loc[:, UMI.columns != 'GDP per hour worked (GDP constant 2017 international $ at PPP)']\n",
    "\n",
    "print(UMI)"
   ]
  },
  {
   "cell_type": "code",
   "execution_count": 10,
   "id": "3efa69be",
   "metadata": {},
   "outputs": [
    {
     "data": {
      "image/png": "[encoded data removed]",
      "text/plain": [
       "<Figure size 432x288 with 1 Axes>"
      ]
     },
     "metadata": {
      "needs_background": "light"
     },
     "output_type": "display_data"
    }
   ],
   "source": [
    "x = UMI.index\n",
    "y = UMI.Country\n",
    "\n",
    "plt.bar(x,y)\n",
    "plt.title('# of countries according to income classification', size=12)\n",
    "plt.xlabel('Income classification')\n",
    "plt.ylabel('# of countries')\n",
    "plt.xticks(rotation='vertical', size=8)\n",
    "plt.show()"
   ]
  },
  {
   "cell_type": "code",
   "execution_count": 11,
   "id": "431dc62b",
   "metadata": {},
   "outputs": [
    {
     "data": {
      "image/png": "[encoded data removed]",
      "text/plain": [
       "<Figure size 432x288 with 1 Axes>"
      ]
     },
     "metadata": {},
     "output_type": "display_data"
    }
   ],
   "source": [
    "#define data\n",
    "\n",
    "chart = UMI.Country\n",
    "labels = ['Upper-middle income countries', 'High income countries','Lower-middle income countries','Low income countries']\n",
    "\n",
    "#define Seaborn color palette to use\n",
    "colors = sns.color_palette('pastel')[0:5]\n",
    "\n",
    "#create pie chart\n",
    "plt.pie(chart, labels = labels, colors = colors, autopct='%1.1f%%')\n",
    "plt.title('No of countries according to income group', size=10)\n",
    "plt.show()\n"
   ]
  },
  {
   "cell_type": "markdown",
   "id": "45823015",
   "metadata": {},
   "source": [
    "#### Sort Countries by GDP per hour"
   ]
  },
  {
   "cell_type": "code",
   "execution_count": 12,
   "id": "4efff88e",
   "metadata": {},
   "outputs": [
    {
     "data": {
      "text/html": [
       "<div>\n",
       "<style scoped>\n",
       "    .dataframe tbody tr th:only-of-type {\n",
       "        vertical-align: middle;\n",
       "    }\n",
       "\n",
       "    .dataframe tbody tr th {\n",
       "        vertical-align: top;\n",
       "    }\n",
       "\n",
       "    .dataframe thead th {\n",
       "        text-align: right;\n",
       "    }\n",
       "</style>\n",
       "<table border=\"1\" class=\"dataframe\">\n",
       "  <thead>\n",
       "    <tr style=\"text-align: right;\">\n",
       "      <th></th>\n",
       "      <th>Group</th>\n",
       "      <th>Country</th>\n",
       "      <th>GDP_per_hour</th>\n",
       "    </tr>\n",
       "  </thead>\n",
       "  <tbody>\n",
       "    <tr>\n",
       "      <th>0</th>\n",
       "      <td>Low income countries</td>\n",
       "      <td>Afghanistan</td>\n",
       "      <td>4.1</td>\n",
       "    </tr>\n",
       "    <tr>\n",
       "      <th>1</th>\n",
       "      <td>Lower-middle income countries</td>\n",
       "      <td>Angola</td>\n",
       "      <td>7.8</td>\n",
       "    </tr>\n",
       "    <tr>\n",
       "      <th>2</th>\n",
       "      <td>Upper-middle income countries</td>\n",
       "      <td>Albania</td>\n",
       "      <td>15.3</td>\n",
       "    </tr>\n",
       "    <tr>\n",
       "      <th>3</th>\n",
       "      <td>High income countries</td>\n",
       "      <td>United Arab Emirates</td>\n",
       "      <td>36.9</td>\n",
       "    </tr>\n",
       "    <tr>\n",
       "      <th>4</th>\n",
       "      <td>Upper-middle income countries</td>\n",
       "      <td>Argentina</td>\n",
       "      <td>29.8</td>\n",
       "    </tr>\n",
       "  </tbody>\n",
       "</table>\n",
       "</div>"
      ],
      "text/plain": [
       "                           Group               Country  GDP_per_hour\n",
       "0           Low income countries           Afghanistan           4.1\n",
       "1  Lower-middle income countries                Angola           7.8\n",
       "2  Upper-middle income countries               Albania          15.3\n",
       "3          High income countries  United Arab Emirates          36.9\n",
       "4  Upper-middle income countries             Argentina          29.8"
      ]
     },
     "execution_count": 12,
     "metadata": {},
     "output_type": "execute_result"
    }
   ],
   "source": [
    "df.head()"
   ]
  },
  {
   "cell_type": "code",
   "execution_count": 13,
   "id": "caa3b105",
   "metadata": {},
   "outputs": [],
   "source": [
    "income_gdp = df.groupby(['Group']).mean()"
   ]
  },
  {
   "cell_type": "code",
   "execution_count": 14,
   "id": "460a10da",
   "metadata": {},
   "outputs": [
    {
     "data": {
      "text/html": [
       "<div>\n",
       "<style scoped>\n",
       "    .dataframe tbody tr th:only-of-type {\n",
       "        vertical-align: middle;\n",
       "    }\n",
       "\n",
       "    .dataframe tbody tr th {\n",
       "        vertical-align: top;\n",
       "    }\n",
       "\n",
       "    .dataframe thead th {\n",
       "        text-align: right;\n",
       "    }\n",
       "</style>\n",
       "<table border=\"1\" class=\"dataframe\">\n",
       "  <thead>\n",
       "    <tr style=\"text-align: right;\">\n",
       "      <th></th>\n",
       "      <th>GDP_per_hour</th>\n",
       "    </tr>\n",
       "    <tr>\n",
       "      <th>Group</th>\n",
       "      <th></th>\n",
       "    </tr>\n",
       "  </thead>\n",
       "  <tbody>\n",
       "    <tr>\n",
       "      <th>High income countries</th>\n",
       "      <td>49.470492</td>\n",
       "    </tr>\n",
       "    <tr>\n",
       "      <th>Low income countries</th>\n",
       "      <td>3.067857</td>\n",
       "    </tr>\n",
       "    <tr>\n",
       "      <th>Lower-middle income countries</th>\n",
       "      <td>8.514894</td>\n",
       "    </tr>\n",
       "    <tr>\n",
       "      <th>Upper-middle income countries</th>\n",
       "      <td>18.993878</td>\n",
       "    </tr>\n",
       "  </tbody>\n",
       "</table>\n",
       "</div>"
      ],
      "text/plain": [
       "                               GDP_per_hour\n",
       "Group                                      \n",
       "High income countries             49.470492\n",
       "Low income countries               3.067857\n",
       "Lower-middle income countries      8.514894\n",
       "Upper-middle income countries     18.993878"
      ]
     },
     "execution_count": 14,
     "metadata": {},
     "output_type": "execute_result"
    }
   ],
   "source": [
    "income_gdp"
   ]
  },
  {
   "cell_type": "code",
   "execution_count": 15,
   "id": "aced96fa",
   "metadata": {},
   "outputs": [
    {
     "data": {
      "image/png": "[encoded data removed]",
      "text/plain": [
       "<Figure size 432x288 with 1 Axes>"
      ]
     },
     "metadata": {
      "needs_background": "light"
     },
     "output_type": "display_data"
    }
   ],
   "source": [
    "x = income_gdp.index\n",
    "y = income_gdp.GDP_per_hour\n",
    "\n",
    "plt.bar(x,y)\n",
    "plt.title('Avg GDP earned per hour', size=12)\n",
    "plt.xlabel('Income classification')\n",
    "plt.ylabel('GDP per hour ($)')\n",
    "plt.xticks(rotation='vertical', size=8)\n",
    "plt.show()"
   ]
  },
  {
   "cell_type": "code",
   "execution_count": 16,
   "id": "1c09d93d",
   "metadata": {},
   "outputs": [
    {
     "data": {
      "image/png": "[encoded data removed]",
      "text/plain": [
       "<Figure size 432x288 with 1 Axes>"
      ]
     },
     "metadata": {},
     "output_type": "display_data"
    }
   ],
   "source": [
    "#define data\n",
    "\n",
    "chart = income_gdp.GDP_per_hour\n",
    "labels = ['Upper-middle income countries', 'High income countries','Lower-middle income countries','Low income countries']\n",
    "\n",
    "#define Seaborn color palette to use\n",
    "colors = sns.color_palette('pastel')[0:5]\n",
    "\n",
    "#create pie chart\n",
    "plt.pie(chart, labels = labels, colors = colors, autopct='%1.1f%%')\n",
    "plt.title('No of countries according to income group', size=10)\n",
    "plt.show()"
   ]
  },
  {
   "cell_type": "markdown",
   "id": "7b8a78b9",
   "metadata": {},
   "source": [
    "#### Countris & GDP per hour"
   ]
  },
  {
   "cell_type": "code",
   "execution_count": 17,
   "id": "41fc7931",
   "metadata": {},
   "outputs": [
    {
     "data": {
      "text/html": [
       "<div>\n",
       "<style scoped>\n",
       "    .dataframe tbody tr th:only-of-type {\n",
       "        vertical-align: middle;\n",
       "    }\n",
       "\n",
       "    .dataframe tbody tr th {\n",
       "        vertical-align: top;\n",
       "    }\n",
       "\n",
       "    .dataframe thead th {\n",
       "        text-align: right;\n",
       "    }\n",
       "</style>\n",
       "<table border=\"1\" class=\"dataframe\">\n",
       "  <thead>\n",
       "    <tr style=\"text-align: right;\">\n",
       "      <th></th>\n",
       "      <th>Group</th>\n",
       "      <th>Country</th>\n",
       "      <th>GDP_per_hour</th>\n",
       "    </tr>\n",
       "  </thead>\n",
       "  <tbody>\n",
       "    <tr>\n",
       "      <th>100</th>\n",
       "      <td>High income countries</td>\n",
       "      <td>Luxembourg</td>\n",
       "      <td>128.1</td>\n",
       "    </tr>\n",
       "    <tr>\n",
       "      <th>77</th>\n",
       "      <td>High income countries</td>\n",
       "      <td>Ireland</td>\n",
       "      <td>122.2</td>\n",
       "    </tr>\n",
       "    <tr>\n",
       "      <th>148</th>\n",
       "      <td>High income countries</td>\n",
       "      <td>Singapore</td>\n",
       "      <td>73.7</td>\n",
       "    </tr>\n",
       "    <tr>\n",
       "      <th>177</th>\n",
       "      <td>High income countries</td>\n",
       "      <td>United States</td>\n",
       "      <td>70.6</td>\n",
       "    </tr>\n",
       "    <tr>\n",
       "      <th>29</th>\n",
       "      <td>High income countries</td>\n",
       "      <td>Switzerland</td>\n",
       "      <td>69.7</td>\n",
       "    </tr>\n",
       "  </tbody>\n",
       "</table>\n",
       "</div>"
      ],
      "text/plain": [
       "                     Group        Country  GDP_per_hour\n",
       "100  High income countries     Luxembourg         128.1\n",
       "77   High income countries        Ireland         122.2\n",
       "148  High income countries      Singapore          73.7\n",
       "177  High income countries  United States          70.6\n",
       "29   High income countries    Switzerland          69.7"
      ]
     },
     "execution_count": 17,
     "metadata": {},
     "output_type": "execute_result"
    }
   ],
   "source": [
    "### Countries with the highest GDP per hour\n",
    "\n",
    "Top = df.nlargest(20, 'GDP_per_hour')\n",
    "Top.head()"
   ]
  },
  {
   "cell_type": "code",
   "execution_count": 18,
   "id": "35f645dd",
   "metadata": {},
   "outputs": [
    {
     "data": {
      "image/png": "[encoded data removed]",
      "text/plain": [
       "<Figure size 432x288 with 1 Axes>"
      ]
     },
     "metadata": {
      "needs_background": "light"
     },
     "output_type": "display_data"
    }
   ],
   "source": [
    "x = Top.Country\n",
    "y = Top.GDP_per_hour\n",
    "colors = sns.color_palette('pastel')[0:5]\n",
    "\n",
    "\n",
    "plt.bar(x,y)\n",
    "plt.title('Countries GDP earned per hour', size=12)\n",
    "plt.xlabel('Countries')\n",
    "plt.ylabel('GDP per hour ($)')\n",
    "plt.xticks(rotation='vertical', size=8)\n",
    "plt.show()"
   ]
  },
  {
   "cell_type": "code",
   "execution_count": 19,
   "id": "41fc7931",
   "metadata": {},
   "outputs": [
    {
     "data": {
      "text/html": [
       "<div>\n",
       "<style scoped>\n",
       "    .dataframe tbody tr th:only-of-type {\n",
       "        vertical-align: middle;\n",
       "    }\n",
       "\n",
       "    .dataframe tbody tr th {\n",
       "        vertical-align: top;\n",
       "    }\n",
       "\n",
       "    .dataframe thead th {\n",
       "        text-align: right;\n",
       "    }\n",
       "</style>\n",
       "<table border=\"1\" class=\"dataframe\">\n",
       "  <thead>\n",
       "    <tr style=\"text-align: right;\">\n",
       "      <th></th>\n",
       "      <th>Group</th>\n",
       "      <th>Country</th>\n",
       "      <th>GDP_per_hour</th>\n",
       "    </tr>\n",
       "  </thead>\n",
       "  <tbody>\n",
       "    <tr>\n",
       "      <th>9</th>\n",
       "      <td>Low income countries</td>\n",
       "      <td>Burundi</td>\n",
       "      <td>0.8</td>\n",
       "    </tr>\n",
       "    <tr>\n",
       "      <th>26</th>\n",
       "      <td>Low income countries</td>\n",
       "      <td>Central African Republic</td>\n",
       "      <td>1.2</td>\n",
       "    </tr>\n",
       "    <tr>\n",
       "      <th>94</th>\n",
       "      <td>Low income countries</td>\n",
       "      <td>Liberia</td>\n",
       "      <td>1.4</td>\n",
       "    </tr>\n",
       "    <tr>\n",
       "      <th>121</th>\n",
       "      <td>Low income countries</td>\n",
       "      <td>Niger</td>\n",
       "      <td>1.7</td>\n",
       "    </tr>\n",
       "    <tr>\n",
       "      <th>136</th>\n",
       "      <td>Low income countries</td>\n",
       "      <td>Korea, Democratic People's Republic of</td>\n",
       "      <td>1.8</td>\n",
       "    </tr>\n",
       "  </tbody>\n",
       "</table>\n",
       "</div>"
      ],
      "text/plain": [
       "                    Group                                 Country  \\\n",
       "9    Low income countries                                 Burundi   \n",
       "26   Low income countries                Central African Republic   \n",
       "94   Low income countries                                 Liberia   \n",
       "121  Low income countries                                   Niger   \n",
       "136  Low income countries  Korea, Democratic People's Republic of   \n",
       "\n",
       "     GDP_per_hour  \n",
       "9             0.8  \n",
       "26            1.2  \n",
       "94            1.4  \n",
       "121           1.7  \n",
       "136           1.8  "
      ]
     },
     "execution_count": 19,
     "metadata": {},
     "output_type": "execute_result"
    }
   ],
   "source": [
    "### Countries with the lowest GDP per hour\n",
    "\n",
    "Bottom = df.nsmallest(20, 'GDP_per_hour')\n",
    "Bottom.head()"
   ]
  },
  {
   "cell_type": "code",
   "execution_count": 20,
   "id": "35f645dd",
   "metadata": {},
   "outputs": [
    {
     "data": {
      "image/png": "[encoded data removed]",
      "text/plain": [
       "<Figure size 432x288 with 1 Axes>"
      ]
     },
     "metadata": {
      "needs_background": "light"
     },
     "output_type": "display_data"
    }
   ],
   "source": [
    "x = Bottom.Country\n",
    "y = Bottom.GDP_per_hour\n",
    "\n",
    "plt.bar(x,y)\n",
    "plt.title('Countries and GDP earned per hour', size=12)\n",
    "plt.xlabel('Countries')\n",
    "plt.ylabel('GDP per hour ($)')\n",
    "plt.xticks(rotation='vertical', size=8)\n",
    "plt.show()"
   ]
  },
  {
   "cell_type": "markdown",
   "id": "29aebd05",
   "metadata": {},
   "source": [
    "#### West African Countries & GDP per hour"
   ]
  },
  {
   "cell_type": "code",
   "execution_count": 21,
   "id": "0d1950f4",
   "metadata": {},
   "outputs": [
    {
     "data": {
      "text/html": [
       "<div>\n",
       "<style scoped>\n",
       "    .dataframe tbody tr th:only-of-type {\n",
       "        vertical-align: middle;\n",
       "    }\n",
       "\n",
       "    .dataframe tbody tr th {\n",
       "        vertical-align: top;\n",
       "    }\n",
       "\n",
       "    .dataframe thead th {\n",
       "        text-align: right;\n",
       "    }\n",
       "</style>\n",
       "<table border=\"1\" class=\"dataframe\">\n",
       "  <thead>\n",
       "    <tr style=\"text-align: right;\">\n",
       "      <th></th>\n",
       "      <th>Group</th>\n",
       "      <th>Country</th>\n",
       "      <th>GDP_per_hour</th>\n",
       "    </tr>\n",
       "  </thead>\n",
       "  <tbody>\n",
       "    <tr>\n",
       "      <th>122</th>\n",
       "      <td>Lower-middle income countries</td>\n",
       "      <td>Nigeria</td>\n",
       "      <td>8.1</td>\n",
       "    </tr>\n",
       "  </tbody>\n",
       "</table>\n",
       "</div>"
      ],
      "text/plain": [
       "                             Group  Country  GDP_per_hour\n",
       "122  Lower-middle income countries  Nigeria           8.1"
      ]
     },
     "execution_count": 21,
     "metadata": {},
     "output_type": "execute_result"
    }
   ],
   "source": [
    "Nigeria = df[df.Country == 'Nigeria']\n",
    "Nigeria"
   ]
  },
  {
   "cell_type": "code",
   "execution_count": 22,
   "id": "d0c2c2cc",
   "metadata": {
    "scrolled": true
   },
   "outputs": [],
   "source": [
    "Nigeria = df[df.Country == 'Nigeria']\n",
    "Senegal = df[df.Country == 'Senegal']\n",
    "Ghana = df[df.Country == 'Ghana']\n",
    "Egypt = df[df.Country == 'Egypt']\n",
    "SA = df[df.Country == 'Sierra Leone']\n",
    "Togo = df[df.Country == 'Togo']\n",
    "Tns = df[df.Country == 'Tunisia']\n",
    "Ngr = df[df.Country == 'Niger']\n",
    "Rwd = df[df.Country == 'Rwanda']"
   ]
  },
  {
   "cell_type": "code",
   "execution_count": 23,
   "id": "32485461",
   "metadata": {},
   "outputs": [
    {
     "data": {
      "text/html": [
       "<div>\n",
       "<style scoped>\n",
       "    .dataframe tbody tr th:only-of-type {\n",
       "        vertical-align: middle;\n",
       "    }\n",
       "\n",
       "    .dataframe tbody tr th {\n",
       "        vertical-align: top;\n",
       "    }\n",
       "\n",
       "    .dataframe thead th {\n",
       "        text-align: right;\n",
       "    }\n",
       "</style>\n",
       "<table border=\"1\" class=\"dataframe\">\n",
       "  <thead>\n",
       "    <tr style=\"text-align: right;\">\n",
       "      <th></th>\n",
       "      <th>Group</th>\n",
       "      <th>Country</th>\n",
       "      <th>GDP_per_hour</th>\n",
       "    </tr>\n",
       "  </thead>\n",
       "  <tbody>\n",
       "    <tr>\n",
       "      <th>122</th>\n",
       "      <td>Lower-middle income countries</td>\n",
       "      <td>Nigeria</td>\n",
       "      <td>8.1</td>\n",
       "    </tr>\n",
       "  </tbody>\n",
       "</table>\n",
       "</div>"
      ],
      "text/plain": [
       "                             Group  Country  GDP_per_hour\n",
       "122  Lower-middle income countries  Nigeria           8.1"
      ]
     },
     "execution_count": 23,
     "metadata": {},
     "output_type": "execute_result"
    }
   ],
   "source": [
    "Nigeria"
   ]
  },
  {
   "cell_type": "code",
   "execution_count": 24,
   "id": "9cecd3b5",
   "metadata": {},
   "outputs": [
    {
     "data": {
      "image/png": "[encoded data removed]",
      "text/plain": [
       "<Figure size 432x288 with 1 Axes>"
      ]
     },
     "metadata": {
      "needs_background": "light"
     },
     "output_type": "display_data"
    }
   ],
   "source": [
    "### plot some charts\n",
    "\n",
    "plt.bar(Nigeria.Country, Nigeria.GDP_per_hour)\n",
    "plt.bar(Senegal.Country, Senegal.GDP_per_hour)\n",
    "plt.bar(Ghana.Country, Ghana.GDP_per_hour)\n",
    "plt.bar(Egypt.Country, Egypt.GDP_per_hour)\n",
    "plt.bar(SA.Country, SA.GDP_per_hour)\n",
    "plt.bar(Tns.Country, Tns.GDP_per_hour)\n",
    "plt.bar(Togo.Country, Togo.GDP_per_hour)\n",
    "plt.bar(Ngr.Country, Ngr.GDP_per_hour)\n",
    "plt.bar(Rwd.Country, Rwd.GDP_per_hour)\n",
    "\n",
    "plt.title('African countries and GDP per hour', size=12)\n",
    "plt.xlabel('Countries')\n",
    "plt.ylabel('GDP per hour ($)')\n",
    "plt.xticks(rotation='vertical')\n",
    "\n",
    "plt.show()"
   ]
  },
  {
   "cell_type": "code",
   "execution_count": 25,
   "id": "6595b47c",
   "metadata": {},
   "outputs": [
    {
     "data": {
      "text/html": [
       "<div>\n",
       "<style scoped>\n",
       "    .dataframe tbody tr th:only-of-type {\n",
       "        vertical-align: middle;\n",
       "    }\n",
       "\n",
       "    .dataframe tbody tr th {\n",
       "        vertical-align: top;\n",
       "    }\n",
       "\n",
       "    .dataframe thead th {\n",
       "        text-align: right;\n",
       "    }\n",
       "</style>\n",
       "<table border=\"1\" class=\"dataframe\">\n",
       "  <thead>\n",
       "    <tr style=\"text-align: right;\">\n",
       "      <th></th>\n",
       "      <th>Group</th>\n",
       "      <th>Country</th>\n",
       "      <th>GDP_per_hour</th>\n",
       "    </tr>\n",
       "  </thead>\n",
       "  <tbody>\n",
       "    <tr>\n",
       "      <th>122</th>\n",
       "      <td>Lower-middle income countries</td>\n",
       "      <td>Nigeria</td>\n",
       "      <td>8.1</td>\n",
       "    </tr>\n",
       "  </tbody>\n",
       "</table>\n",
       "</div>"
      ],
      "text/plain": [
       "                             Group  Country  GDP_per_hour\n",
       "122  Lower-middle income countries  Nigeria           8.1"
      ]
     },
     "execution_count": 25,
     "metadata": {},
     "output_type": "execute_result"
    }
   ],
   "source": [
    "df[df.Country == 'Nigeria']"
   ]
  },
  {
   "cell_type": "code",
   "execution_count": 26,
   "id": "793727eb",
   "metadata": {},
   "outputs": [
    {
     "data": {
      "text/html": [
       "<div>\n",
       "<style scoped>\n",
       "    .dataframe tbody tr th:only-of-type {\n",
       "        vertical-align: middle;\n",
       "    }\n",
       "\n",
       "    .dataframe tbody tr th {\n",
       "        vertical-align: top;\n",
       "    }\n",
       "\n",
       "    .dataframe thead th {\n",
       "        text-align: right;\n",
       "    }\n",
       "</style>\n",
       "<table border=\"1\" class=\"dataframe\">\n",
       "  <thead>\n",
       "    <tr style=\"text-align: right;\">\n",
       "      <th></th>\n",
       "      <th>Group</th>\n",
       "      <th>Country</th>\n",
       "      <th>GDP_per_hour</th>\n",
       "    </tr>\n",
       "  </thead>\n",
       "  <tbody>\n",
       "    <tr>\n",
       "      <th>0</th>\n",
       "      <td>Low income countries</td>\n",
       "      <td>Afghanistan</td>\n",
       "      <td>4.1</td>\n",
       "    </tr>\n",
       "    <tr>\n",
       "      <th>1</th>\n",
       "      <td>Lower-middle income countries</td>\n",
       "      <td>Angola</td>\n",
       "      <td>7.8</td>\n",
       "    </tr>\n",
       "    <tr>\n",
       "      <th>2</th>\n",
       "      <td>Upper-middle income countries</td>\n",
       "      <td>Albania</td>\n",
       "      <td>15.3</td>\n",
       "    </tr>\n",
       "    <tr>\n",
       "      <th>3</th>\n",
       "      <td>High income countries</td>\n",
       "      <td>United Arab Emirates</td>\n",
       "      <td>36.9</td>\n",
       "    </tr>\n",
       "    <tr>\n",
       "      <th>4</th>\n",
       "      <td>Upper-middle income countries</td>\n",
       "      <td>Argentina</td>\n",
       "      <td>29.8</td>\n",
       "    </tr>\n",
       "  </tbody>\n",
       "</table>\n",
       "</div>"
      ],
      "text/plain": [
       "                           Group               Country  GDP_per_hour\n",
       "0           Low income countries           Afghanistan           4.1\n",
       "1  Lower-middle income countries                Angola           7.8\n",
       "2  Upper-middle income countries               Albania          15.3\n",
       "3          High income countries  United Arab Emirates          36.9\n",
       "4  Upper-middle income countries             Argentina          29.8"
      ]
     },
     "execution_count": 26,
     "metadata": {},
     "output_type": "execute_result"
    }
   ],
   "source": [
    "df = pd.read_csv('data-pUHnK.csv')\n",
    "df = df.rename(columns={'GDP per hour worked (GDP constant 2017 international $ at PPP)': 'GDP_per_hour'})\n",
    "df.head()"
   ]
  },
  {
   "cell_type": "code",
   "execution_count": 27,
   "id": "617c0c36",
   "metadata": {},
   "outputs": [
    {
     "data": {
      "text/plain": [
       "0               Low\n",
       "1      Lower-middle\n",
       "2      Upper-middle\n",
       "3              High\n",
       "4      Upper-middle\n",
       "           ...     \n",
       "180    Upper-middle\n",
       "181            High\n",
       "182    Lower-middle\n",
       "183    Lower-middle\n",
       "184    Upper-middle\n",
       "Name: 0, Length: 185, dtype: object"
      ]
     },
     "execution_count": 27,
     "metadata": {},
     "output_type": "execute_result"
    }
   ],
   "source": [
    "# split column into multiple columns by delimiter \n",
    "\n",
    "income_category = df['Group'].str.split(' ', expand=True)\n",
    "income_category = income_category[0]\n",
    "income_category"
   ]
  },
  {
   "cell_type": "code",
   "execution_count": 28,
   "id": "099e4f4f",
   "metadata": {},
   "outputs": [],
   "source": [
    "# export the data to excel\n",
    "\n",
    "import csv\n",
    "\n",
    "header = ['Country', 'GDP per hour worked (GDP constant 2017 international $ at PPP)']\n",
    "    \n",
    "data1 = [Nigeria.loc[:, Nigeria.columns!='Group']]\n",
    "data2 = [Senegal.loc[:, Senegal.columns!='Group']]\n",
    "data3 = [Ghana.loc[:, Ghana.columns!='Group']]\n",
    "data4 = [Egypt.loc[:, Egypt.columns!='Group']]\n",
    "data5 = [SA.loc[:, SA.columns!='Group']]\n",
    "data6 = [Tns.loc[:, Tns.columns!='Group']]\n",
    "\n",
    "with open('CountryGDP.csv', 'w', newline='', encoding='UTF8') as f:\n",
    "        writer = csv.writer(f)\n",
    "        writer.writerow(data1)\n",
    "        writer.writerow(data2)\n",
    "        writer.writerow(data3)\n",
    "        writer.writerow(data4)\n",
    "        writer.writerow(data5)\n",
    "        writer.writerow(data6)"
   ]
  },
  {
   "cell_type": "code",
   "execution_count": null,
   "id": "62ac2271",
   "metadata": {},
   "outputs": [],
   "source": []
  }
 ],
 "metadata": {
  "interpreter": {
   "hash": "cb776a8375f8b9239be053e69763f4892600dfe18133ac09a5580b4dc1bb9f8a"
  },
  "kernelspec": {
   "display_name": "Python 3.9.7 ('base')",
   "language": "python",
   "name": "python3"
  },
  "language_info": {
   "codemirror_mode": {
    "name": "ipython",
    "version": 3
   },
   "file_extension": ".py",
   "mimetype": "text/x-python",
   "name": "python",
   "nbconvert_exporter": "python",
   "pygments_lexer": "ipython3",
   "version": "3.9.7"
  }
 },
 "nbformat": 4,
 "nbformat_minor": 5
}
