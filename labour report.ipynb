{
 "cells": [
  {
   "cell_type": "markdown",
   "id": "324944b7",
   "metadata": {},
   "source": [
    "## Labor productivity"
   ]
  },
  {
   "cell_type": "markdown",
   "id": "81679de1",
   "metadata": {},
   "source": [
    "#### Cleaning the Data"
   ]
  },
  {
   "cell_type": "code",
   "execution_count": null,
   "id": "7ed4c92c",
   "metadata": {},
   "outputs": [],
   "source": [
    "## Import neccesary libraries\n",
    "\n",
    "import pandas as pd\n",
    "from matplotlib import pyplot as plt\n",
    "import seaborn as sns\n",
    "import numpy as np"
   ]
  },
  {
   "cell_type": "code",
   "execution_count": null,
   "id": "30b27ab2",
   "metadata": {},
   "outputs": [],
   "source": [
    "df = pd.read_csv('data-pUHnK.csv')"
   ]
  },
  {
   "cell_type": "code",
   "execution_count": null,
   "id": "7187c0d2",
   "metadata": {},
   "outputs": [],
   "source": [
    "df.head()"
   ]
  },
  {
   "cell_type": "code",
   "execution_count": null,
   "id": "9438aaa4",
   "metadata": {},
   "outputs": [],
   "source": [
    "df = df.rename(columns={'GDP per hour worked (GDP constant 2017 international $ at PPP)':'GDP_per_hour'})"
   ]
  },
  {
   "cell_type": "code",
   "execution_count": null,
   "id": "d00963fd",
   "metadata": {},
   "outputs": [],
   "source": [
    "df.info()"
   ]
  },
  {
   "cell_type": "code",
   "execution_count": null,
   "id": "b1070ef8",
   "metadata": {},
   "outputs": [],
   "source": [
    "df.shape"
   ]
  },
  {
   "cell_type": "markdown",
   "id": "81679de1",
   "metadata": {},
   "source": [
    "#### Countries in the Dataset"
   ]
  },
  {
   "cell_type": "code",
   "execution_count": null,
   "id": "b9a4e1c2",
   "metadata": {},
   "outputs": [],
   "source": [
    "mylist = list(set(df.Country))\n",
    "\n",
    "mylist = sorted(mylist, reverse=False)\n",
    "\n",
    "print(mylist)"
   ]
  },
  {
   "cell_type": "markdown",
   "id": "7b8a78b9",
   "metadata": {},
   "source": [
    "#### GDP per hour according to income group"
   ]
  },
  {
   "cell_type": "code",
   "execution_count": null,
   "metadata": {},
   "outputs": [],
   "source": [
    "### Income grouping of countries in the data set\n",
    "\n",
    "list(set(df.Group))"
   ]
  },
  {
   "cell_type": "code",
   "execution_count": null,
   "id": "ca4aed46",
   "metadata": {},
   "outputs": [],
   "source": [
    "### Income classification of countries\n",
    "\n",
    "UMI = df.groupby(['Group']).count()\n",
    "\n",
    "UMI = UMI.loc[:, UMI.columns != 'GDP per hour worked (GDP constant 2017 international $ at PPP)']\n",
    "\n",
    "print(UMI)"
   ]
  },
  {
   "cell_type": "code",
   "execution_count": null,
   "id": "3efa69be",
   "metadata": {},
   "outputs": [],
   "source": [
    "x = UMI.index\n",
    "y = UMI.Country\n",
    "\n",
    "plt.bar(x,y)\n",
    "plt.title('# of countries according to income classification', size=12)\n",
    "plt.xlabel('Income classification')\n",
    "plt.ylabel('# of countries')\n",
    "plt.xticks(rotation='vertical', size=8)\n",
    "plt.show()"
   ]
  },
  {
   "cell_type": "code",
   "execution_count": null,
   "id": "431dc62b",
   "metadata": {},
   "outputs": [],
   "source": [
    "#define data\n",
    "\n",
    "chart = UMI.Country\n",
    "labels = ['Upper-middle income countries', 'High income countries','Lower-middle income countries','Low income countries']\n",
    "\n",
    "#define Seaborn color palette to use\n",
    "colors = sns.color_palette('pastel')[0:5]\n",
    "\n",
    "#create pie chart\n",
    "plt.pie(chart, labels = labels, colors = colors, autopct='%1.1f%%')\n",
    "plt.title('No of countries according to income group', size=10)\n",
    "plt.show()\n"
   ]
  },
  {
   "cell_type": "markdown",
   "id": "45823015",
   "metadata": {},
   "source": [
    "#### Sort Countries by GDP per hour"
   ]
  },
  {
   "cell_type": "code",
   "execution_count": null,
   "id": "4efff88e",
   "metadata": {},
   "outputs": [],
   "source": [
    "df.head()"
   ]
  },
  {
   "cell_type": "code",
   "execution_count": null,
   "id": "caa3b105",
   "metadata": {},
   "outputs": [],
   "source": [
    "income_gdp = df.groupby(['Group']).mean()"
   ]
  },
  {
   "cell_type": "code",
   "execution_count": null,
   "id": "460a10da",
   "metadata": {},
   "outputs": [],
   "source": [
    "income_gdp"
   ]
  },
  {
   "cell_type": "code",
   "execution_count": null,
   "id": "aced96fa",
   "metadata": {},
   "outputs": [],
   "source": [
    "x = income_gdp.index\n",
    "y = income_gdp.GDP_per_hour\n",
    "\n",
    "plt.bar(x,y)\n",
    "plt.title('Avg GDP earned per hour', size=12)\n",
    "plt.xlabel('Income classification')\n",
    "plt.ylabel('GDP per hour ($)')\n",
    "plt.xticks(rotation='vertical', size=8)\n",
    "plt.show()"
   ]
  },
  {
   "cell_type": "code",
   "execution_count": null,
   "id": "1c09d93d",
   "metadata": {},
   "outputs": [],
   "source": [
    "#define data\n",
    "\n",
    "chart = income_gdp.GDP_per_hour\n",
    "labels = ['Upper-middle income countries', 'High income countries','Lower-middle income countries','Low income countries']\n",
    "\n",
    "#define Seaborn color palette to use\n",
    "colors = sns.color_palette('pastel')[0:5]\n",
    "\n",
    "#create pie chart\n",
    "plt.pie(chart, labels = labels, colors = colors, autopct='%1.1f%%')\n",
    "plt.title('No of countries according to income group', size=10)\n",
    "plt.show()"
   ]
  },
  {
   "cell_type": "markdown",
   "id": "7b8a78b9",
   "metadata": {},
   "source": [
    "#### Countris & GDP per hour"
   ]
  },
  {
   "cell_type": "code",
   "execution_count": null,
   "id": "41fc7931",
   "metadata": {},
   "outputs": [],
   "source": [
    "### Countries with the highest GDP per hour\n",
    "\n",
    "Top = df.nlargest(20, 'GDP_per_hour')\n",
    "Top.head()"
   ]
  },
  {
   "cell_type": "code",
   "execution_count": null,
   "id": "35f645dd",
   "metadata": {},
   "outputs": [],
   "source": [
    "x = Top.Country\n",
    "y = Top.GDP_per_hour\n",
    "colors = sns.color_palette('pastel')[0:5]\n",
    "\n",
    "\n",
    "plt.bar(x,y)\n",
    "plt.title('Countries GDP earned per hour', size=12)\n",
    "plt.xlabel('Countries')\n",
    "plt.ylabel('GDP per hour ($)')\n",
    "plt.xticks(rotation='vertical', size=8)\n",
    "plt.show()"
   ]
  },
  {
   "cell_type": "code",
   "execution_count": null,
   "id": "41fc7931",
   "metadata": {},
   "outputs": [],
   "source": [
    "### Countries with the lowest GDP per hour\n",
    "\n",
    "Bottom = df.nsmallest(20, 'GDP_per_hour')\n",
    "Bottom.head()"
   ]
  },
  {
   "cell_type": "code",
   "execution_count": null,
   "id": "35f645dd",
   "metadata": {},
   "outputs": [],
   "source": [
    "x = Bottom.Country\n",
    "y = Bottom.GDP_per_hour\n",
    "\n",
    "plt.bar(x,y)\n",
    "plt.title('Countries and GDP earned per hour', size=12)\n",
    "plt.xlabel('Countries')\n",
    "plt.ylabel('GDP per hour ($)')\n",
    "plt.xticks(rotation='vertical', size=8)\n",
    "plt.show()"
   ]
  },
  {
   "cell_type": "markdown",
   "id": "29aebd05",
   "metadata": {},
   "source": [
    "#### West African Countries & GDP per hour"
   ]
  },
  {
   "cell_type": "code",
   "execution_count": null,
   "id": "0d1950f4",
   "metadata": {},
   "outputs": [],
   "source": [
    "Nigeria = df[df.Country == 'Nigeria']\n",
    "Nigeria"
   ]
  },
  {
   "cell_type": "code",
   "execution_count": null,
   "id": "d0c2c2cc",
   "metadata": {
    "scrolled": true
   },
   "outputs": [],
   "source": [
    "Nigeria = df[df.Country == 'Nigeria']\n",
    "Senegal = df[df.Country == 'Senegal']\n",
    "Ghana = df[df.Country == 'Ghana']\n",
    "Egypt = df[df.Country == 'Egypt']\n",
    "SA = df[df.Country == 'Sierra Leone']\n",
    "Togo = df[df.Country == 'Togo']\n",
    "Tns = df[df.Country == 'Tunisia']\n",
    "Ngr = df[df.Country == 'Niger']\n",
    "Rwd = df[df.Country == 'Rwanda']"
   ]
  },
  {
   "cell_type": "code",
   "execution_count": null,
   "id": "32485461",
   "metadata": {},
   "outputs": [],
   "source": [
    "Nigeria"
   ]
  },
  {
   "cell_type": "code",
   "execution_count": null,
   "id": "9cecd3b5",
   "metadata": {},
   "outputs": [],
   "source": [
    "### plot some charts\n",
    "\n",
    "plt.bar(Nigeria.Country, Nigeria.GDP_per_hour)\n",
    "plt.bar(Senegal.Country, Senegal.GDP_per_hour)\n",
    "plt.bar(Ghana.Country, Ghana.GDP_per_hour)\n",
    "plt.bar(Egypt.Country, Egypt.GDP_per_hour)\n",
    "plt.bar(SA.Country, SA.GDP_per_hour)\n",
    "plt.bar(Tns.Country, Tns.GDP_per_hour)\n",
    "plt.bar(Togo.Country, Togo.GDP_per_hour)\n",
    "plt.bar(Ngr.Country, Ngr.GDP_per_hour)\n",
    "plt.bar(Rwd.Country, Rwd.GDP_per_hour)\n",
    "\n",
    "plt.title('African countries and GDP per hour', size=12)\n",
    "plt.xlabel('Countries')\n",
    "plt.ylabel('GDP per hour ($)')\n",
    "plt.xticks(rotation='vertical')\n",
    "\n",
    "plt.show()"
   ]
  },
  {
   "cell_type": "code",
   "execution_count": null,
   "id": "6595b47c",
   "metadata": {},
   "outputs": [],
   "source": [
    "df[df.Country == 'Nigeria']"
   ]
  },
  {
   "cell_type": "code",
   "execution_count": null,
   "id": "793727eb",
   "metadata": {},
   "outputs": [],
   "source": [
    "df = pd.read_csv('data-pUHnK.csv')\n",
    "df = df.rename(columns={'GDP per hour worked (GDP constant 2017 international $ at PPP)': 'GDP_per_hour'})\n",
    "df.head()"
   ]
  },
  {
   "cell_type": "code",
   "execution_count": null,
   "id": "617c0c36",
   "metadata": {},
   "outputs": [],
   "source": [
    "# split column into multiple columns by delimiter \n",
    "\n",
    "income_category = df['Group'].str.split(' ', expand=True)\n",
    "income_category = income_category[0]\n",
    "income_category"
   ]
  },
  {
   "cell_type": "code",
   "execution_count": null,
   "id": "099e4f4f",
   "metadata": {},
   "outputs": [],
   "source": [
    "# export the data to excel\n",
    "\n",
    "import csv\n",
    "\n",
    "header = ['Country', 'GDP per hour worked (GDP constant 2017 international $ at PPP)']\n",
    "    \n",
    "data1 = [Nigeria.loc[:, Nigeria.columns!='Group']]\n",
    "data2 = [Senegal.loc[:, Senegal.columns!='Group']]\n",
    "data3 = [Ghana.loc[:, Ghana.columns!='Group']]\n",
    "data4 = [Egypt.loc[:, Egypt.columns!='Group']]\n",
    "data5 = [SA.loc[:, SA.columns!='Group']]\n",
    "data6 = [Tns.loc[:, Tns.columns!='Group']]\n",
    "\n",
    "with open('CountryGDP.csv', 'w', newline='', encoding='UTF8') as f:\n",
    "        writer = csv.writer(f)\n",
    "        writer.writerow(data1)\n",
    "        writer.writerow(data2)\n",
    "        writer.writerow(data3)\n",
    "        writer.writerow(data4)\n",
    "        writer.writerow(data5)\n",
    "        writer.writerow(data6)"
   ]
  },
  {
   "cell_type": "code",
   "execution_count": null,
   "id": "62ac2271",
   "metadata": {},
   "outputs": [],
   "source": []
  }
 ],
 "metadata": {
  "interpreter": {
   "hash": "cb776a8375f8b9239be053e69763f4892600dfe18133ac09a5580b4dc1bb9f8a"
  },
  "kernelspec": {
   "display_name": "Python 3.9.7 ('base')",
   "language": "python",
   "name": "python3"
  },
  "language_info": {
   "codemirror_mode": {
    "name": "ipython",
    "version": 3
   },
   "file_extension": ".py",
   "mimetype": "text/x-python",
   "name": "python",
   "nbconvert_exporter": "python",
   "pygments_lexer": "ipython3",
   "version": "3.9.7"
  }
 },
 "nbformat": 4,
 "nbformat_minor": 5
}
